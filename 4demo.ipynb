{
 "cells": [
  {
   "cell_type": "code",
   "execution_count": 1,
   "id": "763fdef0",
   "metadata": {},
   "outputs": [],
   "source": [
    "import numpy as np\n",
    "import pandas as pd\n",
    "import matplotlib.pyplot as plt\n",
    "from statsmodels.graphics.tsaplots import plot_acf, plot_pacf"
   ]
  },
  {
   "cell_type": "code",
   "execution_count": 42,
   "id": "0a1671c0",
   "metadata": {},
   "outputs": [
    {
     "data": {
      "text/html": [
       "<div>\n",
       "<style scoped>\n",
       "    .dataframe tbody tr th:only-of-type {\n",
       "        vertical-align: middle;\n",
       "    }\n",
       "\n",
       "    .dataframe tbody tr th {\n",
       "        vertical-align: top;\n",
       "    }\n",
       "\n",
       "    .dataframe thead th {\n",
       "        text-align: right;\n",
       "    }\n",
       "</style>\n",
       "<table border=\"1\" class=\"dataframe\">\n",
       "  <thead>\n",
       "    <tr style=\"text-align: right;\">\n",
       "      <th></th>\n",
       "      <th>Date</th>\n",
       "      <th>Open</th>\n",
       "      <th>High</th>\n",
       "      <th>Low</th>\n",
       "      <th>Close</th>\n",
       "      <th>Volume</th>\n",
       "    </tr>\n",
       "  </thead>\n",
       "  <tbody>\n",
       "    <tr>\n",
       "      <th>0</th>\n",
       "      <td>12/19/2016</td>\n",
       "      <td>790.219971</td>\n",
       "      <td>797.659973</td>\n",
       "      <td>786.270020</td>\n",
       "      <td>794.200012</td>\n",
       "      <td>1225900</td>\n",
       "    </tr>\n",
       "    <tr>\n",
       "      <th>1</th>\n",
       "      <td>12/20/2016</td>\n",
       "      <td>796.760010</td>\n",
       "      <td>798.650024</td>\n",
       "      <td>793.270020</td>\n",
       "      <td>796.419983</td>\n",
       "      <td>925100</td>\n",
       "    </tr>\n",
       "    <tr>\n",
       "      <th>2</th>\n",
       "      <td>12/21/2016</td>\n",
       "      <td>795.840027</td>\n",
       "      <td>796.676025</td>\n",
       "      <td>787.099976</td>\n",
       "      <td>794.559998</td>\n",
       "      <td>1208700</td>\n",
       "    </tr>\n",
       "    <tr>\n",
       "      <th>3</th>\n",
       "      <td>12/22/2016</td>\n",
       "      <td>792.359985</td>\n",
       "      <td>793.320007</td>\n",
       "      <td>788.580017</td>\n",
       "      <td>791.260010</td>\n",
       "      <td>969100</td>\n",
       "    </tr>\n",
       "    <tr>\n",
       "      <th>4</th>\n",
       "      <td>12/23/2016</td>\n",
       "      <td>790.900024</td>\n",
       "      <td>792.739990</td>\n",
       "      <td>787.280029</td>\n",
       "      <td>789.909973</td>\n",
       "      <td>623400</td>\n",
       "    </tr>\n",
       "  </tbody>\n",
       "</table>\n",
       "</div>"
      ],
      "text/plain": [
       "         Date        Open        High         Low       Close   Volume\n",
       "0  12/19/2016  790.219971  797.659973  786.270020  794.200012  1225900\n",
       "1  12/20/2016  796.760010  798.650024  793.270020  796.419983   925100\n",
       "2  12/21/2016  795.840027  796.676025  787.099976  794.559998  1208700\n",
       "3  12/22/2016  792.359985  793.320007  788.580017  791.260010   969100\n",
       "4  12/23/2016  790.900024  792.739990  787.280029  789.909973   623400"
      ]
     },
     "execution_count": 42,
     "metadata": {},
     "output_type": "execute_result"
    }
   ],
   "source": [
    "df=pd.read_csv(\"ASGN4/goog.csv\")\n",
    "df.head()"
   ]
  },
  {
   "cell_type": "code",
   "execution_count": 43,
   "id": "1b30cacd",
   "metadata": {},
   "outputs": [
    {
     "data": {
      "image/png": "[encoded data removed]",
      "text/plain": [
       "<Figure size 640x480 with 1 Axes>"
      ]
     },
     "metadata": {},
     "output_type": "display_data"
    }
   ],
   "source": [
    "df['Date']=pd.to_datetime(df['Date'])\n",
    "plt.plot(df['Date'],label='Actual')\n",
    "plt.show()"
   ]
  },
  {
   "cell_type": "code",
   "execution_count": 44,
   "id": "bb5f6b84",
   "metadata": {},
   "outputs": [],
   "source": [
    "df=df['Close']\n",
    "df=np.array(df).reshape(-1,1)\n",
    "df=MinMaxScaler().fit_transform(df)"
   ]
  },
  {
   "cell_type": "code",
   "execution_count": 45,
   "id": "6dc5c5ea",
   "metadata": {},
   "outputs": [
    {
     "name": "stdout",
     "output_type": "stream",
     "text": [
      "48   13\n"
     ]
    }
   ],
   "source": [
    "size=int(len(df)*0.8)\n",
    "df_train=df[:size,:]\n",
    "df_test=df[size:len(df),:]\n",
    "print(len(df_train),\" \",len(df_test))"
   ]
  },
  {
   "cell_type": "code",
   "execution_count": 46,
   "id": "80e40df7",
   "metadata": {},
   "outputs": [],
   "source": [
    "def getdataset(data,size=1):\n",
    "    x=[]\n",
    "    y=[]\n",
    "    for i in range(len(data)-size):\n",
    "        x.append(data[i:i+size,0])\n",
    "        y.append(data[i+size,0])\n",
    "        \n",
    "    return np.array(x),np.array(y)\n",
    "\n",
    "x_train,y_train=getdataset(df_train)\n",
    "x_test,y_test=getdataset(df_test)"
   ]
  },
  {
   "cell_type": "code",
   "execution_count": 54,
   "id": "d576f1f5",
   "metadata": {},
   "outputs": [
    {
     "name": "stdout",
     "output_type": "stream",
     "text": [
      "Epoch 1/50\n",
      "2/2 [==============================] - 4s 11ms/step - loss: 0.4541 - mae: 0.4541\n",
      "Epoch 2/50\n",
      "2/2 [==============================] - 0s 10ms/step - loss: 0.4453 - mae: 0.4453\n",
      "Epoch 3/50\n",
      "2/2 [==============================] - 0s 8ms/step - loss: 0.4364 - mae: 0.4364\n",
      "Epoch 4/50\n",
      "2/2 [==============================] - 0s 8ms/step - loss: 0.4276 - mae: 0.4276\n",
      "Epoch 5/50\n",
      "2/2 [==============================] - 0s 7ms/step - loss: 0.4186 - mae: 0.4186\n",
      "Epoch 6/50\n",
      "2/2 [==============================] - 0s 7ms/step - loss: 0.4092 - mae: 0.4092\n",
      "Epoch 7/50\n",
      "2/2 [==============================] - 0s 7ms/step - loss: 0.3993 - mae: 0.3993\n",
      "Epoch 8/50\n",
      "2/2 [==============================] - 0s 6ms/step - loss: 0.3892 - mae: 0.3892\n",
      "Epoch 9/50\n",
      "2/2 [==============================] - 0s 8ms/step - loss: 0.3785 - mae: 0.3785\n",
      "Epoch 10/50\n",
      "2/2 [==============================] - 0s 7ms/step - loss: 0.3672 - mae: 0.3672\n",
      "Epoch 11/50\n",
      "2/2 [==============================] - 0s 8ms/step - loss: 0.3554 - mae: 0.3554\n",
      "Epoch 12/50\n",
      "2/2 [==============================] - 0s 10ms/step - loss: 0.3424 - mae: 0.3424\n",
      "Epoch 13/50\n",
      "2/2 [==============================] - 0s 10ms/step - loss: 0.3288 - mae: 0.3288\n",
      "Epoch 14/50\n",
      "2/2 [==============================] - 0s 8ms/step - loss: 0.3145 - mae: 0.3145\n",
      "Epoch 15/50\n",
      "2/2 [==============================] - 0s 9ms/step - loss: 0.2985 - mae: 0.2985\n",
      "Epoch 16/50\n",
      "2/2 [==============================] - 0s 10ms/step - loss: 0.2821 - mae: 0.2821\n",
      "Epoch 17/50\n",
      "2/2 [==============================] - 0s 10ms/step - loss: 0.2648 - mae: 0.2648\n",
      "Epoch 18/50\n",
      "2/2 [==============================] - 0s 10ms/step - loss: 0.2467 - mae: 0.2467\n",
      "Epoch 19/50\n",
      "2/2 [==============================] - 0s 11ms/step - loss: 0.2279 - mae: 0.2279\n",
      "Epoch 20/50\n",
      "2/2 [==============================] - 0s 14ms/step - loss: 0.2080 - mae: 0.2080\n",
      "Epoch 21/50\n",
      "2/2 [==============================] - 0s 10ms/step - loss: 0.1894 - mae: 0.1894\n",
      "Epoch 22/50\n",
      "2/2 [==============================] - 0s 7ms/step - loss: 0.1709 - mae: 0.1709\n",
      "Epoch 23/50\n",
      "2/2 [==============================] - 0s 9ms/step - loss: 0.1536 - mae: 0.1536\n",
      "Epoch 24/50\n",
      "2/2 [==============================] - 0s 8ms/step - loss: 0.1380 - mae: 0.1380\n",
      "Epoch 25/50\n",
      "2/2 [==============================] - 0s 10ms/step - loss: 0.1256 - mae: 0.1256\n",
      "Epoch 26/50\n",
      "2/2 [==============================] - 0s 12ms/step - loss: 0.1158 - mae: 0.1158\n",
      "Epoch 27/50\n",
      "2/2 [==============================] - 0s 12ms/step - loss: 0.1130 - mae: 0.1130\n",
      "Epoch 28/50\n",
      "2/2 [==============================] - 0s 11ms/step - loss: 0.1138 - mae: 0.1138\n",
      "Epoch 29/50\n",
      "2/2 [==============================] - 0s 11ms/step - loss: 0.1155 - mae: 0.1155\n",
      "Epoch 30/50\n",
      "2/2 [==============================] - 0s 11ms/step - loss: 0.1166 - mae: 0.1166\n",
      "Epoch 31/50\n",
      "2/2 [==============================] - 0s 11ms/step - loss: 0.1177 - mae: 0.1177\n",
      "Epoch 32/50\n",
      "2/2 [==============================] - 0s 11ms/step - loss: 0.1176 - mae: 0.1176\n",
      "Epoch 33/50\n",
      "2/2 [==============================] - 0s 12ms/step - loss: 0.1161 - mae: 0.1161\n",
      "Epoch 34/50\n",
      "2/2 [==============================] - 0s 13ms/step - loss: 0.1141 - mae: 0.1141\n",
      "Epoch 35/50\n",
      "2/2 [==============================] - 0s 11ms/step - loss: 0.1116 - mae: 0.1116\n",
      "Epoch 36/50\n",
      "2/2 [==============================] - 0s 11ms/step - loss: 0.1093 - mae: 0.1093\n",
      "Epoch 37/50\n",
      "2/2 [==============================] - 0s 12ms/step - loss: 0.1069 - mae: 0.1069\n",
      "Epoch 38/50\n",
      "2/2 [==============================] - 0s 13ms/step - loss: 0.1050 - mae: 0.1050\n",
      "Epoch 39/50\n",
      "2/2 [==============================] - 0s 11ms/step - loss: 0.1028 - mae: 0.1028\n",
      "Epoch 40/50\n",
      "2/2 [==============================] - 0s 11ms/step - loss: 0.1013 - mae: 0.1013\n",
      "Epoch 41/50\n",
      "2/2 [==============================] - 0s 12ms/step - loss: 0.1000 - mae: 0.1000\n",
      "Epoch 42/50\n",
      "2/2 [==============================] - 0s 12ms/step - loss: 0.0993 - mae: 0.0993\n",
      "Epoch 43/50\n",
      "2/2 [==============================] - 0s 12ms/step - loss: 0.0989 - mae: 0.0989\n",
      "Epoch 44/50\n",
      "2/2 [==============================] - 0s 12ms/step - loss: 0.0979 - mae: 0.0979\n",
      "Epoch 45/50\n",
      "2/2 [==============================] - 0s 13ms/step - loss: 0.0966 - mae: 0.0966\n",
      "Epoch 46/50\n",
      "2/2 [==============================] - 0s 10ms/step - loss: 0.0951 - mae: 0.0951\n",
      "Epoch 47/50\n",
      "2/2 [==============================] - 0s 11ms/step - loss: 0.0935 - mae: 0.0935\n",
      "Epoch 48/50\n",
      "2/2 [==============================] - 0s 11ms/step - loss: 0.0912 - mae: 0.0912\n",
      "Epoch 49/50\n",
      "2/2 [==============================] - 0s 12ms/step - loss: 0.0891 - mae: 0.0891\n",
      "Epoch 50/50\n",
      "2/2 [==============================] - 0s 12ms/step - loss: 0.0876 - mae: 0.0876\n"
     ]
    },
    {
     "data": {
      "text/plain": [
       "<keras.src.callbacks.History at 0x17969a67190>"
      ]
     },
     "execution_count": 54,
     "metadata": {},
     "output_type": "execute_result"
    }
   ],
   "source": [
    "from tensorflow.keras.models import Sequential\n",
    "from tensorflow.keras.layers import Dense,LSTM\n",
    "model=Sequential()\n",
    "model.add(LSTM(50,return_sequences=True,input_shape=(x_train.shape[1],1)))\n",
    "model.add(LSTM(50))\n",
    "model.add(Dense(1))\n",
    "model.compile(optimizer='adam',loss='mae',metrics=['mae'])\n",
    "model.fit(x_train,y_train,epochs=50)"
   ]
  },
  {
   "cell_type": "code",
   "execution_count": 55,
   "id": "a0ed6294",
   "metadata": {},
   "outputs": [
    {
     "name": "stdout",
     "output_type": "stream",
     "text": [
      "1/1 [==============================] - 1s 858ms/step\n"
     ]
    },
    {
     "data": {
      "text/plain": [
       "[<matplotlib.lines.Line2D at 0x17956d6ff90>]"
      ]
     },
     "execution_count": 55,
     "metadata": {},
     "output_type": "execute_result"
    },
    {
     "data": {
      "image/png": "[encoded data removed]",
      "text/plain": [
       "<Figure size 640x480 with 1 Axes>"
      ]
     },
     "metadata": {},
     "output_type": "display_data"
    }
   ],
   "source": [
    "y_pred=np.array(model.predict(x_test)).reshape(-1,1)\n",
    "y_test=np.array(y_test).reshape(-1,1)\n",
    "plt.plot(y_pred,label='Predicted')\n",
    "plt.plot(y_test,label='Actual')"
   ]
  },
  {
   "cell_type": "code",
   "execution_count": null,
   "id": "e19cd387",
   "metadata": {},
   "outputs": [],
   "source": []
  }
 ],
 "metadata": {
  "kernelspec": {
   "display_name": "Python 3 (ipykernel)",
   "language": "python",
   "name": "python3"
  },
  "language_info": {
   "codemirror_mode": {
    "name": "ipython",
    "version": 3
   },
   "file_extension": ".py",
   "mimetype": "text/x-python",
   "name": "python",
   "nbconvert_exporter": "python",
   "pygments_lexer": "ipython3",
   "version": "3.11.3"
  }
 },
 "nbformat": 4,
 "nbformat_minor": 5
}
